{
 "cells": [
  {
   "cell_type": "markdown",
   "metadata": {},
   "source": [
    "# Clustering Project\n",
    "\n",
    "In this project, I will be investigating the way people think about masculinity by applying the KMeans algorithm to data from  <a href=\"https://fivethirtyeight.com/\" target = \"_blank\">FiveThirtyEight</a>. FiveThirtyEight is a popular website known for their use of statistical analysis in many of their stories.\n",
    "\n",
    "To begin, take a look at `masculinity-survey.pdf`. FiveThirtyEight and WNYC studios used this survey to get their male readers' thoughts on masculinity. After looking through some of the questions asked, take a look at FiveThirtyEight's article <a href=\"https://fivethirtyeight.com/features/what-do-men-think-it-means-to-be-a-man/\" target = \"_blank\">What Do Men Think It Means To Be A Man?</a> to see their major takeaways.\n",
    "\n",
    "I am going to try to find more insights using machine learning.\n",
    "\n",
    "In the code block below, I've loaded `masculinity.csv` into a DataFrame named `survey`. This file contains the raw responses to the masculinity survey. Let's start getting a sense of how this data is structured. First let's answer few questions using Pandas.\n",
    "* What are the names of the columns? How do those columns relate to the questions in the PDF?\n",
    "* How many rows are there?\n",
    "* How is a question with multiple parts, like question 7, represented in the DataFrame?\n",
    "* How many people said they often ask a friend for professional advice? This is the first sub-question in question 7.\n"
   ]
  },
  {
   "cell_type": "markdown",
   "metadata": {},
   "source": []
  },
  {
   "cell_type": "code",
   "execution_count": 2,
   "metadata": {},
   "outputs": [
    {
     "name": "stdout",
     "output_type": "stream",
     "text": [
      "Index(['Unnamed: 0', 'StartDate', 'EndDate', 'q0001', 'q0002', 'q0004_0001',\n",
      "       'q0004_0002', 'q0004_0003', 'q0004_0004', 'q0004_0005', 'q0004_0006',\n",
      "       'q0005', 'q0007_0001', 'q0007_0002', 'q0007_0003', 'q0007_0004',\n",
      "       'q0007_0005', 'q0007_0006', 'q0007_0007', 'q0007_0008', 'q0007_0009',\n",
      "       'q0007_0010', 'q0007_0011', 'q0008_0001', 'q0008_0002', 'q0008_0003',\n",
      "       'q0008_0004', 'q0008_0005', 'q0008_0006', 'q0008_0007', 'q0008_0008',\n",
      "       'q0008_0009', 'q0008_0010', 'q0008_0011', 'q0008_0012', 'q0009',\n",
      "       'q0010_0001', 'q0010_0002', 'q0010_0003', 'q0010_0004', 'q0010_0005',\n",
      "       'q0010_0006', 'q0010_0007', 'q0010_0008', 'q0011_0001', 'q0011_0002',\n",
      "       'q0011_0003', 'q0011_0004', 'q0011_0005', 'q0012_0001', 'q0012_0002',\n",
      "       'q0012_0003', 'q0012_0004', 'q0012_0005', 'q0012_0006', 'q0012_0007',\n",
      "       'q0013', 'q0014', 'q0015', 'q0017', 'q0018', 'q0019_0001', 'q0019_0002',\n",
      "       'q0019_0003', 'q0019_0004', 'q0019_0005', 'q0019_0006', 'q0019_0007',\n",
      "       'q0020_0001', 'q0020_0002', 'q0020_0003', 'q0020_0004', 'q0020_0005',\n",
      "       'q0020_0006', 'q0021_0001', 'q0021_0002', 'q0021_0003', 'q0021_0004',\n",
      "       'q0022', 'q0024', 'q0025_0001', 'q0025_0002', 'q0025_0003', 'q0026',\n",
      "       'q0028', 'q0029', 'q0030', 'q0034', 'q0035', 'q0036', 'race2',\n",
      "       'racethn4', 'educ3', 'educ4', 'age3', 'kids', 'orientation', 'weight'],\n",
      "      dtype='object')\n",
      "(1189, 98)\n",
      "1189\n",
      "Rarely                       456\n",
      "Sometimes                    339\n",
      "Never, and not open to it    187\n",
      "Often                        111\n",
      "Never, but open to it         75\n",
      "No answer                     21\n",
      "Name: q0007_0011, dtype: int64\n"
     ]
    },
    {
     "ename": "NameError",
     "evalue": "name 'number_often_ask_friend' is not defined",
     "output_type": "error",
     "traceback": [
      "\u001b[1;31m---------------------------------------------------------------------------\u001b[0m",
      "\u001b[1;31mNameError\u001b[0m                                 Traceback (most recent call last)",
      "\u001b[1;32mc:\\Users\\olafk\\Desktop\\Projects\\Masculinity\\Masculinity\\Masculinity_Project.ipynb Komórka 3\u001b[0m in \u001b[0;36m<cell line: 9>\u001b[1;34m()\u001b[0m\n\u001b[0;32m      <a href='vscode-notebook-cell:/c%3A/Users/olafk/Desktop/Projects/Masculinity/Masculinity/Masculinity_Project.ipynb#W2sZmlsZQ%3D%3D?line=6'>7</a>\u001b[0m \u001b[39mprint\u001b[39m(survey[\u001b[39m'\u001b[39m\u001b[39mq0007_0011\u001b[39m\u001b[39m'\u001b[39m]\u001b[39m.\u001b[39mvalue_counts())\n\u001b[0;32m      <a href='vscode-notebook-cell:/c%3A/Users/olafk/Desktop/Projects/Masculinity/Masculinity/Masculinity_Project.ipynb#W2sZmlsZQ%3D%3D?line=7'>8</a>\u001b[0m mans_who_often_ask_friend \u001b[39m=\u001b[39m \u001b[39mlen\u001b[39m(survey[survey[\u001b[39m'\u001b[39m\u001b[39mq0007_0001\u001b[39m\u001b[39m'\u001b[39m] \u001b[39m==\u001b[39m \u001b[39m'\u001b[39m\u001b[39mOften\u001b[39m\u001b[39m'\u001b[39m])\n\u001b[1;32m----> <a href='vscode-notebook-cell:/c%3A/Users/olafk/Desktop/Projects/Masculinity/Masculinity/Masculinity_Project.ipynb#W2sZmlsZQ%3D%3D?line=8'>9</a>\u001b[0m \u001b[39mprint\u001b[39m(\u001b[39mf\u001b[39m\u001b[39m'\u001b[39m\u001b[39mMans who often ask their friend for help: \u001b[39m\u001b[39m{\u001b[39;00mnumber_often_ask_friend\u001b[39m}\u001b[39;00m\u001b[39m'\u001b[39m)\n",
      "\u001b[1;31mNameError\u001b[0m: name 'number_often_ask_friend' is not defined"
     ]
    }
   ],
   "source": [
    "import pandas as pd\n",
    "\n",
    "survey = pd.read_csv(\"masculinity.csv\")\n",
    "print(survey.columns)\n",
    "print(survey.shape)\n",
    "print(len(survey))\n",
    "print(survey['q0007_0011'].value_counts())\n",
    "mans_who_often_ask_friend = len(survey[survey['q0007_0001'] == 'Often'])\n",
    "print(f'Mans who often ask their friend for help: {number_often_ask_friend}')"
   ]
  },
  {
   "cell_type": "markdown",
   "metadata": {},
   "source": [
    "# Mapping the Data\n",
    "\n",
    "In order for us to start thinking about using the KMeans algorithm with this data, we need to first figure out how to turn these responses into numerical data. Let's once again consider question 7. We can't cluster the data using the phrases `\"Often\"` or `\"Rarely\"`, but we can turn those phrases into numbers. For example, we could map the data in the following way: \n",
    "* `\"Often\"` -> `4`\n",
    "* `\"Sometimes\"` ->  `3`\n",
    "* `\"Rarely\"` -> `2` \n",
    "* `\"Never, but open to it\"` -> `1`\n",
    "* `\"Never, and not open to it\"` -> `0`.\n",
    "\n",
    "Note that it's important that these responses are somewhat linear. `\"Often\"` is at one end of the spectrum with `\"Never, and not open to it\"` at the other. The other values fall in sequence between the two. I can perform similar mapping for the `\"educ\"` responses (question 29), but there isn't an obvious linear progression in the `\"race\"` responses (question 28).\n",
    "\n",
    "In order to do this transformation, I use the `map()` function."
   ]
  },
  {
   "cell_type": "code",
   "execution_count": null,
   "metadata": {},
   "outputs": [
    {
     "name": "stdout",
     "output_type": "stream",
     "text": [
      "2.0    456\n",
      "3.0    339\n",
      "0.0    187\n",
      "4.0    111\n",
      "1.0     75\n",
      "Name: q0007_0011, dtype: int64\n"
     ]
    }
   ],
   "source": [
    "cols_to_map = [\"q0007_0001\", \"q0007_0002\", \"q0007_0003\", \"q0007_0004\",\n",
    "       \"q0007_0005\", \"q0007_0006\", \"q0007_0007\", \"q0007_0008\", \"q0007_0009\",\n",
    "       \"q0007_0010\", \"q0007_0011\"]\n",
    "for column in cols_to_map:\n",
    "       survey[column] = survey[column].map({\"Often\":4, 'Sometimes':3, 'Rarely':2, 'Never, but open to it' : 1, 'Never, and not open to it':0})\n",
    "\n",
    "print(survey['q0007_0011'].value_counts())"
   ]
  },
  {
   "cell_type": "markdown",
   "metadata": {},
   "source": [
    "# Plotting the Data\n",
    "\n",
    "Now there are 11 different features that I can use in our KMeans algorithm. Before I jump into clustering, let's graph some of these features on a 2D graph. Call `plt.scatter` using `survey[\"q0007_0001\"]` and `survey[\"q0007_0002\"]` as parameters. Include `alpha = 0.1`. We want to include `alpha` because many of the data points will be on top of each other. Adding `alpha` will make the points appear more solid if there are many stacked on top of each other.\n",
    "\n",
    "The x-axis corresponds with the first column in `scatter()` function. So in this case, it corresponds to the question about asking a friend for professional advice.\n",
    "\n",
    "It make sense that there are few points in the top left and bottom right corners of the graph. Following our intuition, if person often ask friend for personal advice, we can assume he will also be likely to ask friend for professional advice and vice versa. \n"
   ]
  },
  {
   "cell_type": "code",
   "execution_count": null,
   "metadata": {},
   "outputs": [
    {
     "data": {
      "image/png": "[encoded data removed]",
      "text/plain": [
       "<Figure size 432x288 with 1 Axes>"
      ]
     },
     "metadata": {
      "needs_background": "light"
     },
     "output_type": "display_data"
    }
   ],
   "source": [
    "from matplotlib import pyplot as plt\n",
    "plt.scatter(survey['q0007_0001'], survey['q0007_0002'], alpha=0.1)\n",
    "plt.xlabel(\"Ask a friend for professional advice\")\n",
    "plt.ylabel(\"Ask a friend for personal advice\")\n",
    "plt.savefig('Question7_0001_and_0002.jpg')\n",
    "plt.show()"
   ]
  },
  {
   "cell_type": "markdown",
   "metadata": {},
   "source": [
    "# Build the KMeans Model\n",
    "\n",
    "It's now time to start clustering! Let's start by seeing if clusters form based on traditionally masculine concepts. \n",
    "\n",
    "Take a look at the first four sub-questions in question 7. Those four activities aren't necessarily seen as traditionally masculine. On the other hand, sub-questions 5, 8, and 9 are often seen as very masculine activities. What would happen if we found 2 clusters based on those 7 questions? Would we find clusters that represent traditionally feminine and traditionally masculine people? Let's find out.\n",
    "\n",
    "\n",
    "Create a `KMeans` object named `classifier` where `n_clusters = 2`. Call `classifier`'s `.fit()` method. The parameter of `.fit()` should be the 7 columns we're interested in. For example, the following line of code will fit the model based on the columns `\"col_one\"` and `\"col_two\"` of the Dataframe `df`. \n",
    "\n",
    "```py\n",
    "classifier.fit(df[[\"col_one\", \"col_two\"]])\n",
    "```\n",
    "\n",
    "Make sure to only include the columns that you want to train off of. Make sure to use `rows_to_cluster` rather than `survey` to avoid including those `NaN`s!\n",
    "\n",
    "\n",
    "\n",
    "After fitting your model, print out the model's `cluster_centers_`.\n"
   ]
  },
  {
   "cell_type": "code",
   "execution_count": null,
   "metadata": {},
   "outputs": [
    {
     "name": "stdout",
     "output_type": "stream",
     "text": [
      "(1023, 98)\n",
      "[[1.91052632 1.85263158 0.95789474 1.66578947 0.53947368 2.88421053\n",
      "  0.08421053 2.80789474 2.17894737 0.60789474 1.66315789]\n",
      " [2.85381026 2.83359253 2.83981337 2.44012442 0.71695179 2.74339036\n",
      "  0.52410575 2.97045101 2.80248834 1.53654743 2.39502333]]\n"
     ]
    }
   ],
   "source": [
    "from sklearn.cluster import KMeans\n",
    "\n",
    "traditional_masculine_or_femine = [\"q0007_0001\", \"q0007_0002\", \"q0007_0003\", \"q0007_0004\", \"q0007_0005\", \"q0007_0008\", \"q0007_0009\"]\n",
    "rows_to_cluster = survey.dropna(subset=cols_to_map)\n",
    "\n",
    "\n",
    "print(rows_to_cluster.shape)\n",
    "\n",
    "classifier = KMeans(n_clusters=2)\n",
    "classifier.fit(rows_to_cluster[cols_to_map])\n",
    "\n",
    "print(classifier.cluster_centers_)"
   ]
  },
  {
   "cell_type": "markdown",
   "metadata": {},
   "source": [
    "# Separate the Cluster Members\n",
    "\n",
    "When we look at the two clusters, the first four numbers represent the traditionally feminine activities and the last three represent the traditionally masculine activities. If the data points separated into a feminine cluser and a masculine cluseter, we would expect to see one cluster to have high values for the first four numbers and the other cluster to have high values for the last three numbers.\n",
    "\n",
    "Instead, the first cluster has a higher value in every feature. Since a higher number means the person was more likely to \"often\" do something, the clusters seem to represent \"people who do things\" and \"people who don't do things\".\n",
    "\n",
    "We might be able to find out more information about these clusters by looking at the specific members of each cluster. Print `classifier.labels_`. This list shows which cluster every row in the DataFrame corresponds to.\n",
    "\n",
    "For example,  if `classifier.labels_` was `[1, 0 ,1]`, then the first row in the DataFrame would be in cluster one, the second row would be in cluster 0, and the third row would be in cluster one. A row represents one persons answers to every question in the survey.\n"
   ]
  },
  {
   "cell_type": "code",
   "execution_count": null,
   "metadata": {},
   "outputs": [
    {
     "name": "stdout",
     "output_type": "stream",
     "text": [
      "[1 1 0 ... 1 0 0]\n",
      "[0, 1, 4, 7, 10, 12, 13, 14, 15, 19, 20, 21, 22, 23, 24, 26, 28, 29, 30, 32, 33, 34, 35, 36, 37, 38, 39, 41, 42, 43, 44, 47, 53, 56, 57, 58, 63, 64, 66, 67, 68, 69, 70, 72, 73, 74, 76, 77, 78, 79, 80, 88, 94, 95, 97, 98, 99, 100, 103, 104, 105, 107, 109, 110, 112, 115, 116, 117, 119, 120, 121, 122, 128, 130, 131, 132, 133, 135, 139, 140, 141, 142, 144, 145, 146, 147, 148, 150, 151, 152, 153, 154, 155, 156, 157, 158, 159, 160, 161, 162, 163, 164, 165, 166, 168, 169, 170, 172, 173, 175, 176, 177, 178, 182, 184, 186, 187, 188, 190, 193, 196, 197, 199, 200, 201, 203, 204, 206, 207, 208, 209, 210, 211, 212, 213, 214, 215, 216, 217, 218, 219, 220, 221, 223, 225, 227, 228, 231, 232, 235, 236, 237, 238, 239, 240, 242, 244, 245, 246, 247, 248, 249, 250, 251, 252, 255, 256, 258, 259, 260, 261, 263, 264, 266, 267, 269, 270, 271, 273, 274, 275, 279, 280, 281, 282, 283, 285, 286, 287, 288, 290, 291, 295, 296, 297, 299, 300, 301, 302, 304, 306, 307, 308, 309, 311, 313, 314, 315, 317, 318, 320, 321, 322, 323, 324, 325, 326, 331, 332, 333, 334, 336, 337, 340, 342, 343, 344, 345, 348, 349, 351, 354, 356, 357, 358, 359, 360, 363, 364, 365, 366, 367, 368, 369, 371, 372, 373, 379, 380, 384, 385, 386, 388, 389, 390, 391, 392, 395, 397, 398, 399, 404, 405, 406, 407, 408, 410, 411, 414, 415, 417, 418, 419, 420, 421, 422, 423, 424, 425, 426, 427, 428, 429, 430, 432, 434, 436, 440, 442, 446, 447, 448, 449, 450, 451, 453, 457, 458, 463, 464, 465, 466, 467, 470, 471, 472, 479, 481, 484, 485, 487, 489, 490, 491, 495, 497, 498, 501, 502, 503, 505, 507, 508, 511, 513, 516, 517, 518, 519, 520, 521, 522, 523, 525, 526, 527, 529, 530, 531, 533, 534, 535, 536, 539, 540, 543, 549, 550, 552, 555, 556, 557, 559, 562, 563, 564, 565, 567, 568, 571, 572, 576, 577, 578, 579, 580, 581, 582, 584, 585, 586, 587, 588, 589, 591, 592, 593, 594, 595, 597, 599, 601, 602, 604, 605, 607, 609, 610, 612, 617, 618, 619, 620, 621, 622, 623, 624, 626, 628, 629, 633, 634, 636, 637, 639, 640, 641, 642, 643, 644, 646, 647, 648, 649, 650, 651, 652, 654, 655, 656, 658, 660, 664, 665, 666, 669, 670, 671, 674, 675, 676, 677, 678, 679, 681, 682, 683, 684, 687, 688, 689, 690, 691, 692, 699, 700, 702, 704, 705, 706, 707, 709, 710, 712, 713, 715, 716, 719, 720, 725, 726, 728, 729, 730, 733, 734, 735, 736, 737, 739, 740, 743, 745, 751, 756, 757, 758, 762, 764, 766, 767, 768, 769, 770, 772, 774, 776, 777, 778, 781, 783, 785, 786, 787, 788, 790, 791, 792, 794, 795, 796, 797, 798, 800, 802, 803, 804, 806, 807, 808, 809, 812, 813, 814, 815, 817, 819, 821, 822, 824, 826, 828, 829, 831, 832, 833, 834, 836, 837, 838, 840, 843, 844, 845, 852, 854, 856, 857, 859, 862, 868, 869, 870, 871, 872, 873, 874, 875, 877, 878, 880, 881, 882, 885, 889, 890, 891, 892, 894, 895, 896, 897, 898, 899, 901, 902, 903, 904, 905, 908, 909, 910, 911, 912, 914, 915, 916, 917, 918, 919, 920, 922, 923, 926, 927, 928, 931, 934, 935, 937, 938, 941, 942, 943, 945, 947, 949, 951, 953, 955, 956, 957, 958, 960, 962, 963, 965, 967, 969, 970, 971, 973, 976, 978, 979, 980, 981, 982, 983, 984, 985, 986, 987, 988, 989, 990, 991, 993, 994, 995, 1000, 1001, 1004, 1006, 1007, 1009, 1011, 1012, 1013, 1016, 1018, 1019, 1020]\n"
     ]
    }
   ],
   "source": [
    "print(classifier.labels_)\n",
    "cluster_zero_indices = []\n",
    "cluster_one_indices = []\n",
    "\n",
    "for i in range(len(classifier.labels_)):\n",
    "    if classifier.labels_[i] == 1:\n",
    "        cluster_one_indices.append(i)\n",
    "    elif classifier.labels_[i] == 0:\n",
    "        cluster_zero_indices.append(i)\n",
    "\n",
    "print(cluster_one_indices)\n",
    "\n",
    "\n"
   ]
  },
  {
   "cell_type": "markdown",
   "metadata": {},
   "source": [
    "# Investigate the Cluster Members\n",
    "\n",
    "Now that we have the indices for each cluster, let's look at some stats about these two clusters. You can get the rows of the DataFrame that correspond to cluster zero by doing the following:\n",
    "\n",
    "```py\n",
    "cluster_zero_df = rows_to_cluster.iloc[cluster_zero_indices]\n",
    "```\n",
    "\n",
    "Do the same for `cluster_one_df`.\n",
    "\n",
    "Finally, let's look at some information about these two clusters. Print the `value_counts()` of the `educ4` column of each cluster. What do you notice? Try looking at different columns. For example, are the people in cluster zero significantly older than those in cluster one? You can look at the `age3` column to see.\n",
    "\n",
    "If you divide the result of `value_counts()` by the size of the cluster, you get the percentage of people in each category rather than the total number. This will make it easier to compare the two clusters."
   ]
  },
  {
   "cell_type": "code",
   "execution_count": null,
   "metadata": {
    "scrolled": true
   },
   "outputs": [
    {
     "name": "stdout",
     "output_type": "stream",
     "text": [
      "65 and up    0.536842\n",
      "35 - 64      0.405263\n",
      "18 - 34      0.055263\n",
      "Name: age3, dtype: float64\n",
      "35 - 64      0.502333\n",
      "65 and up    0.424572\n",
      "18 - 34      0.073095\n",
      "Name: age3, dtype: float64\n"
     ]
    }
   ],
   "source": [
    "cluster_zero_df = rows_to_cluster.iloc[cluster_zero_indices]\n",
    "cluster_one_df = rows_to_cluster.iloc[cluster_one_indices]\n",
    "\n",
    "print(cluster_zero_df['age3'].value_counts()/len(cluster_zero_df))\n",
    "print(cluster_one_df['age3'].value_counts()/len(cluster_one_df))\n",
    "\n"
   ]
  },
  {
   "cell_type": "markdown",
   "metadata": {},
   "source": [
    "Are the people in cluster zero more educated that those in cluster one? Let's look at `educ4` column to see. "
   ]
  },
  {
   "cell_type": "code",
   "execution_count": null,
   "metadata": {},
   "outputs": [
    {
     "name": "stdout",
     "output_type": "stream",
     "text": [
      "College or more         0.321053\n",
      "Some college            0.294737\n",
      "Post graduate degree    0.255263\n",
      "High school or less     0.126316\n",
      "Name: educ4, dtype: float64\n",
      "Post graduate degree    0.370140\n",
      "College or more         0.312597\n",
      "Some college            0.236392\n",
      "High school or less     0.080871\n",
      "Name: educ4, dtype: float64\n"
     ]
    }
   ],
   "source": [
    "print(cluster_zero_df['educ4'].value_counts()/len(cluster_zero_df))\n",
    "print(cluster_one_df['educ4'].value_counts()/len(cluster_one_df))\n"
   ]
  },
  {
   "cell_type": "markdown",
   "metadata": {},
   "source": [
    "# Conclusion\n",
    "\n",
    "Cluster analysis was designed to get two cluster, more and less \"traditionaly masculine\" mans. Instead the first cluster has a higher value in every feature. Since a higher number means the person was more likely to \"often\" do something, the clusters seem to represent \"people who do things\" and \"people who don't do things\". It indicates that there besides gender, there are other subgroups which basen on It is possible to cluster survey's participants."
   ]
  }
 ],
 "metadata": {
  "kernelspec": {
   "display_name": "Python 3.9.12 ('base')",
   "language": "python",
   "name": "python3"
  },
  "language_info": {
   "codemirror_mode": {
    "name": "ipython",
    "version": 3
   },
   "file_extension": ".py",
   "mimetype": "text/x-python",
   "name": "python",
   "nbconvert_exporter": "python",
   "pygments_lexer": "ipython3",
   "version": "3.9.13"
  },
  "vscode": {
   "interpreter": {
    "hash": "e925636a0b7c6026e16ceba626bc40dea2d843d871da5cfe06b4755fd84dac6a"
   }
  }
 },
 "nbformat": 4,
 "nbformat_minor": 2
}
